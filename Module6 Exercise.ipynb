{
 "cells": [
  {
   "cell_type": "markdown",
   "metadata": {},
   "source": [
    "### Exercise 1\n",
    "Convert following decimal number to a binary number by hand:\n",
    "\n",
    "    61\n",
    "    15\n",
    "    71\n",
    "    "
   ]
  },
  {
   "cell_type": "code",
   "execution_count": 19,
   "metadata": {},
   "outputs": [
    {
     "data": {
      "text/plain": [
       "(0, 1)"
      ]
     },
     "execution_count": 19,
     "metadata": {},
     "output_type": "execute_result"
    }
   ],
   "source": [
    "61//2, 61%2   #101111 read from bottom up so bin = 111101 = 61\n",
    "30//2, 30%2\n",
    "15//2, 15%2\n",
    "7//2, 7%2\n",
    "3//2, 3%2\n",
    "1//2, 1%2\n",
    "\n",
    "\n",
    "15//2, 15%2  #1111\n",
    "7//2, 7%2\n",
    "3//2, 3%2\n",
    "1//2, 1%2\n",
    "\n",
    "\n",
    "71//2, 71%2    #1110001 which is 1000111\n",
    "35//2, 35%2\n",
    "17//2, 17%2\n",
    "8//2, 8%2\n",
    "4//2, 4%2\n",
    "2//2, 2%2\n",
    "1//2, 1%2\n"
   ]
  },
  {
   "cell_type": "markdown",
   "metadata": {},
   "source": [
    "### Exercise 2\n",
    "When a = 61 and b = 15, what is the result of following bitwise opertion? Use inline comments to show your result in a binary number. Find your answer by hand.\n",
    "\n",
    "    a & b\n",
    "    a | b\n",
    "    a ^ b\n",
    "    a >> 2\n",
    "    "
   ]
  },
  {
   "cell_type": "code",
   "execution_count": 29,
   "metadata": {},
   "outputs": [
    {
     "data": {
      "text/plain": [
       "(0, 1)"
      ]
     },
     "execution_count": 29,
     "metadata": {},
     "output_type": "execute_result"
    }
   ],
   "source": [
    "# convert a in to a binary number\n",
    "a = 61\n",
    "61//2, 61%2  #101111 which is 111101 = 61\n",
    "30//2, 30%2\n",
    "15//2, 15%2\n",
    "7//2, 7%2\n",
    "3//2, 3%2\n",
    "1//2, 1%2\n",
    "\n",
    "# convert b in to a binary number\n",
    "15//2, 15%2    #1111\n",
    "7//2, 7%2\n",
    "3//2, 3%2\n",
    "1//2, 1%2\n"
   ]
  },
  {
   "cell_type": "code",
   "execution_count": 41,
   "metadata": {},
   "outputs": [
    {
     "ename": "IndentationError",
     "evalue": "unexpected indent (<ipython-input-41-0605b23a67ef>, line 3)",
     "output_type": "error",
     "traceback": [
      "\u001b[0;36m  File \u001b[0;32m\"<ipython-input-41-0605b23a67ef>\"\u001b[0;36m, line \u001b[0;32m3\u001b[0m\n\u001b[0;31m    1111   #both a and b have to be true\u001b[0m\n\u001b[0m    ^\u001b[0m\n\u001b[0;31mIndentationError\u001b[0m\u001b[0;31m:\u001b[0m unexpected indent\n"
     ]
    }
   ],
   "source": [
    "# a & b\n",
    "111101\n",
    "  1111   #both a and b have to be true \n",
    "  1101  "
   ]
  },
  {
   "cell_type": "code",
   "execution_count": null,
   "metadata": {},
   "outputs": [],
   "source": [
    "# a | b\n",
    "111101\n",
    "  1111   #either a or b have to be true \n",
    "111111    "
   ]
  },
  {
   "cell_type": "code",
   "execution_count": null,
   "metadata": {},
   "outputs": [],
   "source": [
    "# a ^ b\n",
    "111101     # If a and b are the same then false, if diffrent then true\n",
    "  1111\n",
    "   010"
   ]
  },
  {
   "cell_type": "code",
   "execution_count": null,
   "metadata": {},
   "outputs": [],
   "source": [
    "# a >> 2\n"
   ]
  },
  {
   "cell_type": "markdown",
   "metadata": {},
   "source": [
    "### Exercise 3\n",
    "Ask a user for a code and store that answer. \n",
    "If the answer is <b>grey</b> then print \"You found secret code.\"\n",
    "Otherwise print that the entered code is not the secret code."
   ]
  },
  {
   "cell_type": "code",
   "execution_count": 35,
   "metadata": {},
   "outputs": [
    {
     "name": "stdout",
     "output_type": "stream",
     "text": [
      "Enter code: grey\n",
      "You found secret code\n"
     ]
    }
   ],
   "source": [
    "code = (input(\"Enter code: \"))\n",
    "if code == (\"grey\"):\n",
    "    print(\"You found secret code\")\n",
    "else:\n",
    "    print(\"The entered code is not the secret code.\")\n"
   ]
  },
  {
   "cell_type": "markdown",
   "metadata": {},
   "source": [
    "### Exercise 4\n",
    "Ask for an exam score and store that number. If the number is greater than 100, then print out 'You cannot have an exam score higher than 100'. If the number doesn't exceeed 100 but is greater than or equal to 75, then print out 'You did great on your exam!'. Otherwise if they scored lower than 75, then print out 'You need to study harder'."
   ]
  },
  {
   "cell_type": "code",
   "execution_count": 38,
   "metadata": {},
   "outputs": [
    {
     "name": "stdout",
     "output_type": "stream",
     "text": [
      "Enter exam scrore105\n",
      "You cannot have an exam score higher than 100.\n"
     ]
    }
   ],
   "source": [
    "score = int(input(\"Enter exam scrore\"))\n",
    "if score >100:\n",
    "    print(\"You cannot have an exam score higher than 100.\")\n",
    "elif score >=75:\n",
    "    print(\"You did great on your exam!\")\n",
    "else:\n",
    "    print(\"You need to study harder!\")\n",
    "    \n",
    "    "
   ]
  },
  {
   "cell_type": "markdown",
   "metadata": {},
   "source": [
    "### Exercise 5\n",
    "Write a function to convert a test score to a grade where  \n",
    " - 90 - 100: A\n",
    " - 80 - 89:  B\n",
    " - 70 - 79:  C\n",
    " - 60 - 69:  D\n",
    " - < 60   :  F\n",
    " \n",
    "If a score is not between 0 and 100 then print out an error message. In the program, ask the user for a score and then call your function. "
   ]
  },
  {
   "cell_type": "code",
   "execution_count": 46,
   "metadata": {},
   "outputs": [
    {
     "ename": "SyntaxError",
     "evalue": "unexpected EOF while parsing (<ipython-input-46-9a5951ed906e>, line 2)",
     "output_type": "error",
     "traceback": [
      "\u001b[0;36m  File \u001b[0;32m\"<ipython-input-46-9a5951ed906e>\"\u001b[0;36m, line \u001b[0;32m2\u001b[0m\n\u001b[0;31m    def grade(grade):\u001b[0m\n\u001b[0m                     ^\u001b[0m\n\u001b[0;31mSyntaxError\u001b[0m\u001b[0;31m:\u001b[0m unexpected EOF while parsing\n"
     ]
    }
   ],
   "source": [
    "# define your function\n",
    "def grade(grade):"
   ]
  },
  {
   "cell_type": "code",
   "execution_count": 53,
   "metadata": {},
   "outputs": [],
   "source": [
    "# ask the user for a score and then call your function\n",
    "def grade(grade):\n",
    "    grade = int(input(\"Enter test scrore\"))\n",
    "    if grade >= 90 & grade <= 100:\n",
    "        print(\"You have an A\")\n",
    "    elif grade >= 80 and grade <=89:\n",
    "        print(\"You have a B\")\n",
    "    elif grade >= 70 and grade <=79:\n",
    "        print(\"You have a C\")\n",
    "    elif grade >= 60 and grade <=69:\n",
    "        print(\"You have a D\")\n",
    "    else :\n",
    "        print(\"You have a F\")"
   ]
  },
  {
   "cell_type": "code",
   "execution_count": 50,
   "metadata": {},
   "outputs": [
    {
     "ename": "SyntaxError",
     "evalue": "invalid syntax (<ipython-input-50-6db9dd8c7f07>, line 3)",
     "output_type": "error",
     "traceback": [
      "\u001b[0;36m  File \u001b[0;32m\"<ipython-input-50-6db9dd8c7f07>\"\u001b[0;36m, line \u001b[0;32m3\u001b[0m\n\u001b[0;31m    if grade >= 90 & <= 100:\u001b[0m\n\u001b[0m                     ^\u001b[0m\n\u001b[0;31mSyntaxError\u001b[0m\u001b[0;31m:\u001b[0m invalid syntax\n"
     ]
    }
   ],
   "source": []
  },
  {
   "cell_type": "code",
   "execution_count": null,
   "metadata": {},
   "outputs": [],
   "source": []
  }
 ],
 "metadata": {
  "kernelspec": {
   "display_name": "Python 3",
   "language": "python",
   "name": "python3"
  },
  "language_info": {
   "codemirror_mode": {
    "name": "ipython",
    "version": 3
   },
   "file_extension": ".py",
   "mimetype": "text/x-python",
   "name": "python",
   "nbconvert_exporter": "python",
   "pygments_lexer": "ipython3",
   "version": "3.8.8"
  }
 },
 "nbformat": 4,
 "nbformat_minor": 4
}
